{
 "cells": [
  {
   "cell_type": "markdown",
   "metadata": {},
   "source": [
    "# Stock price prediction using Regression"
   ]
  },
  {
   "cell_type": "markdown",
   "metadata": {},
   "source": [
    "## Library "
   ]
  },
  {
   "cell_type": "code",
   "execution_count": 98,
   "metadata": {},
   "outputs": [],
   "source": [
    "import pandas as pd\n",
    "import copy\n",
    "import quandl, math, datetime\n",
    "import matplotlib.pyplot as plt\n",
    "from matplotlib import style \n",
    "import numpy as np\n",
    "from sklearn import preprocessing, model_selection, svm\n",
    "from sklearn.linear_model import LinearRegression\n",
    "from sklearn import model_selection, linear_model, tree\n",
    "from sklearn.ensemble import RandomForestRegressor, GradientBoostingRegressor\n",
    "from sklearn.neighbors import KNeighborsRegressor\n",
    "#  scaling between -1 and +1 using preprocessing\n",
    "#  create training and test - cross_validation (model_selection)"
   ]
  },
  {
   "cell_type": "code",
   "execution_count": 99,
   "metadata": {
    "scrolled": true
   },
   "outputs": [
    {
     "name": "stdout",
     "output_type": "stream",
     "text": [
      "              Open    High     Low    Close      Volume  Ex-Dividend  \\\n",
      "Date                                                                   \n",
      "2004-08-19  100.01  104.06   95.96  100.335  44659000.0          0.0   \n",
      "2004-08-20  101.01  109.08  100.50  108.310  22834300.0          0.0   \n",
      "2004-08-23  110.76  113.48  109.05  109.400  18256100.0          0.0   \n",
      "2004-08-24  111.24  111.60  103.57  104.870  15247300.0          0.0   \n",
      "2004-08-25  104.76  108.00  103.88  106.000   9188600.0          0.0   \n",
      "\n",
      "            Split Ratio  Adj. Open  Adj. High   Adj. Low  Adj. Close  \\\n",
      "Date                                                                   \n",
      "2004-08-19          1.0  50.159839  52.191109  48.128568   50.322842   \n",
      "2004-08-20          1.0  50.661387  54.708881  50.405597   54.322689   \n",
      "2004-08-23          1.0  55.551482  56.915693  54.693835   54.869377   \n",
      "2004-08-24          1.0  55.792225  55.972783  51.945350   52.597363   \n",
      "2004-08-25          1.0  52.542193  54.167209  52.100830   53.164113   \n",
      "\n",
      "            Adj. Volume  \n",
      "Date                     \n",
      "2004-08-19   44659000.0  \n",
      "2004-08-20   22834300.0  \n",
      "2004-08-23   18256100.0  \n",
      "2004-08-24   15247300.0  \n",
      "2004-08-25    9188600.0  \n"
     ]
    }
   ],
   "source": [
    "df = quandl.get('WIKI/GOOGL')\n",
    "print(df.head())\n"
   ]
  },
  {
   "cell_type": "markdown",
   "metadata": {},
   "source": [
    "## Data Pre-Processing"
   ]
  },
  {
   "cell_type": "code",
   "execution_count": 100,
   "metadata": {},
   "outputs": [],
   "source": [
    "# Save to csv\n",
    "df.to_csv('Wiki_Googl.csv')"
   ]
  },
  {
   "cell_type": "code",
   "execution_count": 101,
   "metadata": {},
   "outputs": [],
   "source": [
    "df = df[['Adj. Open','Adj. High','Adj. Low','Adj. Close','Adj. Volume']]"
   ]
  },
  {
   "cell_type": "code",
   "execution_count": 102,
   "metadata": {},
   "outputs": [
    {
     "data": {
      "text/html": [
       "<div>\n",
       "<style scoped>\n",
       "    .dataframe tbody tr th:only-of-type {\n",
       "        vertical-align: middle;\n",
       "    }\n",
       "\n",
       "    .dataframe tbody tr th {\n",
       "        vertical-align: top;\n",
       "    }\n",
       "\n",
       "    .dataframe thead th {\n",
       "        text-align: right;\n",
       "    }\n",
       "</style>\n",
       "<table border=\"1\" class=\"dataframe\">\n",
       "  <thead>\n",
       "    <tr style=\"text-align: right;\">\n",
       "      <th></th>\n",
       "      <th>Adj. Open</th>\n",
       "      <th>Adj. High</th>\n",
       "      <th>Adj. Low</th>\n",
       "      <th>Adj. Close</th>\n",
       "      <th>Adj. Volume</th>\n",
       "    </tr>\n",
       "    <tr>\n",
       "      <th>Date</th>\n",
       "      <th></th>\n",
       "      <th></th>\n",
       "      <th></th>\n",
       "      <th></th>\n",
       "      <th></th>\n",
       "    </tr>\n",
       "  </thead>\n",
       "  <tbody>\n",
       "    <tr>\n",
       "      <th>2018-03-21</th>\n",
       "      <td>1092.57</td>\n",
       "      <td>1108.70</td>\n",
       "      <td>1087.21</td>\n",
       "      <td>1094.00</td>\n",
       "      <td>1990515.0</td>\n",
       "    </tr>\n",
       "    <tr>\n",
       "      <th>2018-03-22</th>\n",
       "      <td>1080.01</td>\n",
       "      <td>1083.92</td>\n",
       "      <td>1049.64</td>\n",
       "      <td>1053.15</td>\n",
       "      <td>3418154.0</td>\n",
       "    </tr>\n",
       "    <tr>\n",
       "      <th>2018-03-23</th>\n",
       "      <td>1051.37</td>\n",
       "      <td>1066.78</td>\n",
       "      <td>1024.87</td>\n",
       "      <td>1026.55</td>\n",
       "      <td>2413517.0</td>\n",
       "    </tr>\n",
       "    <tr>\n",
       "      <th>2018-03-26</th>\n",
       "      <td>1050.60</td>\n",
       "      <td>1059.27</td>\n",
       "      <td>1010.58</td>\n",
       "      <td>1054.09</td>\n",
       "      <td>3272409.0</td>\n",
       "    </tr>\n",
       "    <tr>\n",
       "      <th>2018-03-27</th>\n",
       "      <td>1063.90</td>\n",
       "      <td>1064.54</td>\n",
       "      <td>997.62</td>\n",
       "      <td>1006.94</td>\n",
       "      <td>2940957.0</td>\n",
       "    </tr>\n",
       "  </tbody>\n",
       "</table>\n",
       "</div>"
      ],
      "text/plain": [
       "            Adj. Open  Adj. High  Adj. Low  Adj. Close  Adj. Volume\n",
       "Date                                                               \n",
       "2018-03-21    1092.57    1108.70   1087.21     1094.00    1990515.0\n",
       "2018-03-22    1080.01    1083.92   1049.64     1053.15    3418154.0\n",
       "2018-03-23    1051.37    1066.78   1024.87     1026.55    2413517.0\n",
       "2018-03-26    1050.60    1059.27   1010.58     1054.09    3272409.0\n",
       "2018-03-27    1063.90    1064.54    997.62     1006.94    2940957.0"
      ]
     },
     "execution_count": 102,
     "metadata": {},
     "output_type": "execute_result"
    }
   ],
   "source": [
    "df.tail(5)"
   ]
  },
  {
   "cell_type": "code",
   "execution_count": 103,
   "metadata": {},
   "outputs": [],
   "source": [
    "df['HL_PCT'] =  (df['Adj. High'] - df ['Adj. Close']) / df['Adj. Close'] * 100.0"
   ]
  },
  {
   "cell_type": "code",
   "execution_count": 104,
   "metadata": {},
   "outputs": [],
   "source": [
    "df['PCT_change'] =  (df['Adj. Close'] - df ['Adj. Open']) / df['Adj. Open'] * 100.0"
   ]
  },
  {
   "cell_type": "code",
   "execution_count": 105,
   "metadata": {},
   "outputs": [],
   "source": [
    "df=df[['Adj. Close','HL_PCT','PCT_change','Adj. Volume']]"
   ]
  },
  {
   "cell_type": "code",
   "execution_count": 106,
   "metadata": {},
   "outputs": [
    {
     "data": {
      "text/html": [
       "<div>\n",
       "<style scoped>\n",
       "    .dataframe tbody tr th:only-of-type {\n",
       "        vertical-align: middle;\n",
       "    }\n",
       "\n",
       "    .dataframe tbody tr th {\n",
       "        vertical-align: top;\n",
       "    }\n",
       "\n",
       "    .dataframe thead th {\n",
       "        text-align: right;\n",
       "    }\n",
       "</style>\n",
       "<table border=\"1\" class=\"dataframe\">\n",
       "  <thead>\n",
       "    <tr style=\"text-align: right;\">\n",
       "      <th></th>\n",
       "      <th>Adj. Close</th>\n",
       "      <th>HL_PCT</th>\n",
       "      <th>PCT_change</th>\n",
       "      <th>Adj. Volume</th>\n",
       "    </tr>\n",
       "    <tr>\n",
       "      <th>Date</th>\n",
       "      <th></th>\n",
       "      <th></th>\n",
       "      <th></th>\n",
       "      <th></th>\n",
       "    </tr>\n",
       "  </thead>\n",
       "  <tbody>\n",
       "    <tr>\n",
       "      <th>2018-03-21</th>\n",
       "      <td>1094.00</td>\n",
       "      <td>1.343693</td>\n",
       "      <td>0.130884</td>\n",
       "      <td>1990515.0</td>\n",
       "    </tr>\n",
       "    <tr>\n",
       "      <th>2018-03-22</th>\n",
       "      <td>1053.15</td>\n",
       "      <td>2.921711</td>\n",
       "      <td>-2.487014</td>\n",
       "      <td>3418154.0</td>\n",
       "    </tr>\n",
       "    <tr>\n",
       "      <th>2018-03-23</th>\n",
       "      <td>1026.55</td>\n",
       "      <td>3.918952</td>\n",
       "      <td>-2.360729</td>\n",
       "      <td>2413517.0</td>\n",
       "    </tr>\n",
       "    <tr>\n",
       "      <th>2018-03-26</th>\n",
       "      <td>1054.09</td>\n",
       "      <td>0.491419</td>\n",
       "      <td>0.332191</td>\n",
       "      <td>3272409.0</td>\n",
       "    </tr>\n",
       "    <tr>\n",
       "      <th>2018-03-27</th>\n",
       "      <td>1006.94</td>\n",
       "      <td>5.720301</td>\n",
       "      <td>-5.353887</td>\n",
       "      <td>2940957.0</td>\n",
       "    </tr>\n",
       "  </tbody>\n",
       "</table>\n",
       "</div>"
      ],
      "text/plain": [
       "            Adj. Close    HL_PCT  PCT_change  Adj. Volume\n",
       "Date                                                     \n",
       "2018-03-21     1094.00  1.343693    0.130884    1990515.0\n",
       "2018-03-22     1053.15  2.921711   -2.487014    3418154.0\n",
       "2018-03-23     1026.55  3.918952   -2.360729    2413517.0\n",
       "2018-03-26     1054.09  0.491419    0.332191    3272409.0\n",
       "2018-03-27     1006.94  5.720301   -5.353887    2940957.0"
      ]
     },
     "execution_count": 106,
     "metadata": {},
     "output_type": "execute_result"
    }
   ],
   "source": [
    "# Save to csv\n",
    "df.to_csv('WGoogle_Data.csv')\n",
    "df.tail(5)"
   ]
  },
  {
   "cell_type": "code",
   "execution_count": 107,
   "metadata": {},
   "outputs": [],
   "source": [
    "# Placeholder for forecast column\n",
    "forecast_col = 'Adj. Close'"
   ]
  },
  {
   "cell_type": "code",
   "execution_count": 108,
   "metadata": {},
   "outputs": [],
   "source": [
    "df.fillna(-9999,inplace=True)"
   ]
  },
  {
   "cell_type": "code",
   "execution_count": 109,
   "metadata": {},
   "outputs": [
    {
     "name": "stdout",
     "output_type": "stream",
     "text": [
      "35\n"
     ]
    }
   ],
   "source": [
    "forecast_out = int(math.ceil(0.01*len(df)))\n",
    "print(forecast_out)"
   ]
  },
  {
   "cell_type": "code",
   "execution_count": 110,
   "metadata": {},
   "outputs": [
    {
     "data": {
      "text/html": [
       "<div>\n",
       "<style scoped>\n",
       "    .dataframe tbody tr th:only-of-type {\n",
       "        vertical-align: middle;\n",
       "    }\n",
       "\n",
       "    .dataframe tbody tr th {\n",
       "        vertical-align: top;\n",
       "    }\n",
       "\n",
       "    .dataframe thead th {\n",
       "        text-align: right;\n",
       "    }\n",
       "</style>\n",
       "<table border=\"1\" class=\"dataframe\">\n",
       "  <thead>\n",
       "    <tr style=\"text-align: right;\">\n",
       "      <th></th>\n",
       "      <th>Adj. Close</th>\n",
       "      <th>HL_PCT</th>\n",
       "      <th>PCT_change</th>\n",
       "      <th>Adj. Volume</th>\n",
       "    </tr>\n",
       "    <tr>\n",
       "      <th>Date</th>\n",
       "      <th></th>\n",
       "      <th></th>\n",
       "      <th></th>\n",
       "      <th></th>\n",
       "    </tr>\n",
       "  </thead>\n",
       "  <tbody>\n",
       "    <tr>\n",
       "      <th>2018-03-21</th>\n",
       "      <td>1094.00</td>\n",
       "      <td>1.343693</td>\n",
       "      <td>0.130884</td>\n",
       "      <td>1990515.0</td>\n",
       "    </tr>\n",
       "    <tr>\n",
       "      <th>2018-03-22</th>\n",
       "      <td>1053.15</td>\n",
       "      <td>2.921711</td>\n",
       "      <td>-2.487014</td>\n",
       "      <td>3418154.0</td>\n",
       "    </tr>\n",
       "    <tr>\n",
       "      <th>2018-03-23</th>\n",
       "      <td>1026.55</td>\n",
       "      <td>3.918952</td>\n",
       "      <td>-2.360729</td>\n",
       "      <td>2413517.0</td>\n",
       "    </tr>\n",
       "    <tr>\n",
       "      <th>2018-03-26</th>\n",
       "      <td>1054.09</td>\n",
       "      <td>0.491419</td>\n",
       "      <td>0.332191</td>\n",
       "      <td>3272409.0</td>\n",
       "    </tr>\n",
       "    <tr>\n",
       "      <th>2018-03-27</th>\n",
       "      <td>1006.94</td>\n",
       "      <td>5.720301</td>\n",
       "      <td>-5.353887</td>\n",
       "      <td>2940957.0</td>\n",
       "    </tr>\n",
       "  </tbody>\n",
       "</table>\n",
       "</div>"
      ],
      "text/plain": [
       "            Adj. Close    HL_PCT  PCT_change  Adj. Volume\n",
       "Date                                                     \n",
       "2018-03-21     1094.00  1.343693    0.130884    1990515.0\n",
       "2018-03-22     1053.15  2.921711   -2.487014    3418154.0\n",
       "2018-03-23     1026.55  3.918952   -2.360729    2413517.0\n",
       "2018-03-26     1054.09  0.491419    0.332191    3272409.0\n",
       "2018-03-27     1006.94  5.720301   -5.353887    2940957.0"
      ]
     },
     "execution_count": 110,
     "metadata": {},
     "output_type": "execute_result"
    }
   ],
   "source": [
    "df.tail(5)"
   ]
  },
  {
   "cell_type": "code",
   "execution_count": 111,
   "metadata": {},
   "outputs": [],
   "source": [
    "# Shift works like Lag() and Lead()function\n",
    "df['label'] = df[forecast_col].shift(-forecast_out)\n",
    "df.to_csv('WGoogle_Shift.csv')"
   ]
  },
  {
   "cell_type": "code",
   "execution_count": 112,
   "metadata": {},
   "outputs": [],
   "source": [
    "X = np.array(df.drop(['label'],1))\n",
    "X = preprocessing.scale(X)\n",
    "# X with y value\n",
    "X = X[:-forecast_out]\n",
    "# X we don't have a y value \n",
    "X_lately = X[-forecast_out:]\n",
    "\n",
    "\n",
    "df.dropna(inplace=True)\n",
    "y = np.array(df['label'])"
   ]
  },
  {
   "cell_type": "code",
   "execution_count": 113,
   "metadata": {},
   "outputs": [
    {
     "name": "stdout",
     "output_type": "stream",
     "text": [
      "3389 3389 3389\n"
     ]
    }
   ],
   "source": [
    "# Just to check the length of the array\n",
    "print(len(X),len(y),len(df))"
   ]
  },
  {
   "cell_type": "code",
   "execution_count": 114,
   "metadata": {},
   "outputs": [],
   "source": [
    "#Split dataset to training and testing subsets\n",
    "X_train, X_test, y_train, y_test = model_selection.train_test_split(X,y,test_size=0.2)"
   ]
  },
  {
   "cell_type": "code",
   "execution_count": 115,
   "metadata": {},
   "outputs": [
    {
     "data": {
      "text/html": [
       "<div>\n",
       "<style scoped>\n",
       "    .dataframe tbody tr th:only-of-type {\n",
       "        vertical-align: middle;\n",
       "    }\n",
       "\n",
       "    .dataframe tbody tr th {\n",
       "        vertical-align: top;\n",
       "    }\n",
       "\n",
       "    .dataframe thead th {\n",
       "        text-align: right;\n",
       "    }\n",
       "</style>\n",
       "<table border=\"1\" class=\"dataframe\">\n",
       "  <thead>\n",
       "    <tr style=\"text-align: right;\">\n",
       "      <th></th>\n",
       "      <th>Adj. Close</th>\n",
       "      <th>HL_PCT</th>\n",
       "      <th>PCT_change</th>\n",
       "      <th>Adj. Volume</th>\n",
       "      <th>label</th>\n",
       "    </tr>\n",
       "    <tr>\n",
       "      <th>Date</th>\n",
       "      <th></th>\n",
       "      <th></th>\n",
       "      <th></th>\n",
       "      <th></th>\n",
       "      <th></th>\n",
       "    </tr>\n",
       "  </thead>\n",
       "  <tbody>\n",
       "    <tr>\n",
       "      <th>2018-01-30</th>\n",
       "      <td>1177.37</td>\n",
       "      <td>0.896914</td>\n",
       "      <td>-0.029718</td>\n",
       "      <td>1792602.0</td>\n",
       "      <td>1094.00</td>\n",
       "    </tr>\n",
       "    <tr>\n",
       "      <th>2018-01-31</th>\n",
       "      <td>1182.22</td>\n",
       "      <td>0.346805</td>\n",
       "      <td>-0.134312</td>\n",
       "      <td>1643877.0</td>\n",
       "      <td>1053.15</td>\n",
       "    </tr>\n",
       "    <tr>\n",
       "      <th>2018-02-01</th>\n",
       "      <td>1181.59</td>\n",
       "      <td>0.495942</td>\n",
       "      <td>0.476195</td>\n",
       "      <td>2774967.0</td>\n",
       "      <td>1026.55</td>\n",
       "    </tr>\n",
       "    <tr>\n",
       "      <th>2018-02-02</th>\n",
       "      <td>1119.20</td>\n",
       "      <td>1.081129</td>\n",
       "      <td>-0.729098</td>\n",
       "      <td>5798880.0</td>\n",
       "      <td>1054.09</td>\n",
       "    </tr>\n",
       "    <tr>\n",
       "      <th>2018-02-05</th>\n",
       "      <td>1068.76</td>\n",
       "      <td>4.325574</td>\n",
       "      <td>-2.893850</td>\n",
       "      <td>3742469.0</td>\n",
       "      <td>1006.94</td>\n",
       "    </tr>\n",
       "  </tbody>\n",
       "</table>\n",
       "</div>"
      ],
      "text/plain": [
       "            Adj. Close    HL_PCT  PCT_change  Adj. Volume    label\n",
       "Date                                                              \n",
       "2018-01-30     1177.37  0.896914   -0.029718    1792602.0  1094.00\n",
       "2018-01-31     1182.22  0.346805   -0.134312    1643877.0  1053.15\n",
       "2018-02-01     1181.59  0.495942    0.476195    2774967.0  1026.55\n",
       "2018-02-02     1119.20  1.081129   -0.729098    5798880.0  1054.09\n",
       "2018-02-05     1068.76  4.325574   -2.893850    3742469.0  1006.94"
      ]
     },
     "execution_count": 115,
     "metadata": {},
     "output_type": "execute_result"
    }
   ],
   "source": [
    "df.tail(5)"
   ]
  },
  {
   "cell_type": "code",
   "execution_count": 116,
   "metadata": {},
   "outputs": [],
   "source": [
    "# Prepare DF for each Alogrithms\n",
    "# This does a shallow copy \n",
    "# df_lr,df_svr,df_dt,df_rf,df_gb,df_knn = df,df,df,df,df,df\n",
    "df_lr = copy.deepcopy(df)\n",
    "df_svr = copy.deepcopy(df)\n",
    "df_dt = copy.deepcopy(df)\n",
    "df_rf = copy.deepcopy(df)\n",
    "df_gb = copy.deepcopy(df)\n",
    "df_knn = copy.deepcopy(df)"
   ]
  },
  {
   "cell_type": "code",
   "execution_count": 117,
   "metadata": {},
   "outputs": [
    {
     "data": {
      "text/html": [
       "<div>\n",
       "<style scoped>\n",
       "    .dataframe tbody tr th:only-of-type {\n",
       "        vertical-align: middle;\n",
       "    }\n",
       "\n",
       "    .dataframe tbody tr th {\n",
       "        vertical-align: top;\n",
       "    }\n",
       "\n",
       "    .dataframe thead th {\n",
       "        text-align: right;\n",
       "    }\n",
       "</style>\n",
       "<table border=\"1\" class=\"dataframe\">\n",
       "  <thead>\n",
       "    <tr style=\"text-align: right;\">\n",
       "      <th></th>\n",
       "      <th>Adj. Close</th>\n",
       "      <th>HL_PCT</th>\n",
       "      <th>PCT_change</th>\n",
       "      <th>Adj. Volume</th>\n",
       "      <th>label</th>\n",
       "    </tr>\n",
       "    <tr>\n",
       "      <th>Date</th>\n",
       "      <th></th>\n",
       "      <th></th>\n",
       "      <th></th>\n",
       "      <th></th>\n",
       "      <th></th>\n",
       "    </tr>\n",
       "  </thead>\n",
       "  <tbody>\n",
       "    <tr>\n",
       "      <th>2004-08-19</th>\n",
       "      <td>50.322842</td>\n",
       "      <td>3.712563</td>\n",
       "      <td>0.324968</td>\n",
       "      <td>44659000.0</td>\n",
       "      <td>69.078238</td>\n",
       "    </tr>\n",
       "    <tr>\n",
       "      <th>2004-08-20</th>\n",
       "      <td>54.322689</td>\n",
       "      <td>0.710922</td>\n",
       "      <td>7.227007</td>\n",
       "      <td>22834300.0</td>\n",
       "      <td>67.839414</td>\n",
       "    </tr>\n",
       "    <tr>\n",
       "      <th>2004-08-23</th>\n",
       "      <td>54.869377</td>\n",
       "      <td>3.729433</td>\n",
       "      <td>-1.227880</td>\n",
       "      <td>18256100.0</td>\n",
       "      <td>68.912727</td>\n",
       "    </tr>\n",
       "    <tr>\n",
       "      <th>2004-08-24</th>\n",
       "      <td>52.597363</td>\n",
       "      <td>6.417469</td>\n",
       "      <td>-5.726357</td>\n",
       "      <td>15247300.0</td>\n",
       "      <td>70.668146</td>\n",
       "    </tr>\n",
       "    <tr>\n",
       "      <th>2004-08-25</th>\n",
       "      <td>53.164113</td>\n",
       "      <td>1.886792</td>\n",
       "      <td>1.183658</td>\n",
       "      <td>9188600.0</td>\n",
       "      <td>71.219849</td>\n",
       "    </tr>\n",
       "    <tr>\n",
       "      <th>...</th>\n",
       "      <td>...</td>\n",
       "      <td>...</td>\n",
       "      <td>...</td>\n",
       "      <td>...</td>\n",
       "      <td>...</td>\n",
       "    </tr>\n",
       "    <tr>\n",
       "      <th>2018-01-30</th>\n",
       "      <td>1177.370000</td>\n",
       "      <td>0.896914</td>\n",
       "      <td>-0.029718</td>\n",
       "      <td>1792602.0</td>\n",
       "      <td>1094.000000</td>\n",
       "    </tr>\n",
       "    <tr>\n",
       "      <th>2018-01-31</th>\n",
       "      <td>1182.220000</td>\n",
       "      <td>0.346805</td>\n",
       "      <td>-0.134312</td>\n",
       "      <td>1643877.0</td>\n",
       "      <td>1053.150000</td>\n",
       "    </tr>\n",
       "    <tr>\n",
       "      <th>2018-02-01</th>\n",
       "      <td>1181.590000</td>\n",
       "      <td>0.495942</td>\n",
       "      <td>0.476195</td>\n",
       "      <td>2774967.0</td>\n",
       "      <td>1026.550000</td>\n",
       "    </tr>\n",
       "    <tr>\n",
       "      <th>2018-02-02</th>\n",
       "      <td>1119.200000</td>\n",
       "      <td>1.081129</td>\n",
       "      <td>-0.729098</td>\n",
       "      <td>5798880.0</td>\n",
       "      <td>1054.090000</td>\n",
       "    </tr>\n",
       "    <tr>\n",
       "      <th>2018-02-05</th>\n",
       "      <td>1068.760000</td>\n",
       "      <td>4.325574</td>\n",
       "      <td>-2.893850</td>\n",
       "      <td>3742469.0</td>\n",
       "      <td>1006.940000</td>\n",
       "    </tr>\n",
       "  </tbody>\n",
       "</table>\n",
       "<p>3389 rows × 5 columns</p>\n",
       "</div>"
      ],
      "text/plain": [
       "             Adj. Close    HL_PCT  PCT_change  Adj. Volume        label\n",
       "Date                                                                   \n",
       "2004-08-19    50.322842  3.712563    0.324968   44659000.0    69.078238\n",
       "2004-08-20    54.322689  0.710922    7.227007   22834300.0    67.839414\n",
       "2004-08-23    54.869377  3.729433   -1.227880   18256100.0    68.912727\n",
       "2004-08-24    52.597363  6.417469   -5.726357   15247300.0    70.668146\n",
       "2004-08-25    53.164113  1.886792    1.183658    9188600.0    71.219849\n",
       "...                 ...       ...         ...          ...          ...\n",
       "2018-01-30  1177.370000  0.896914   -0.029718    1792602.0  1094.000000\n",
       "2018-01-31  1182.220000  0.346805   -0.134312    1643877.0  1053.150000\n",
       "2018-02-01  1181.590000  0.495942    0.476195    2774967.0  1026.550000\n",
       "2018-02-02  1119.200000  1.081129   -0.729098    5798880.0  1054.090000\n",
       "2018-02-05  1068.760000  4.325574   -2.893850    3742469.0  1006.940000\n",
       "\n",
       "[3389 rows x 5 columns]"
      ]
     },
     "execution_count": 117,
     "metadata": {},
     "output_type": "execute_result"
    }
   ],
   "source": [
    "df"
   ]
  },
  {
   "cell_type": "markdown",
   "metadata": {},
   "source": [
    "## Algorithms Evaluate "
   ]
  },
  {
   "cell_type": "code",
   "execution_count": 118,
   "metadata": {},
   "outputs": [
    {
     "name": "stdout",
     "output_type": "stream",
     "text": [
      "LR: 1.424223 \n",
      "SVR: 0.319272 \n",
      "DT: 0.098058 \n",
      "RF: 0.074481 \n",
      "GB: 0.077091 \n",
      "KNN: 0.115510 \n"
     ]
    }
   ],
   "source": [
    "import seaborn as sns\n",
    "%matplotlib inline\n",
    "sns.set()\n",
    "seed = 1234\n",
    "\n",
    "models = []\n",
    "models.append(('LR', linear_model.LinearRegression(fit_intercept=False)))\n",
    "models.append(('SVR',svm.SVR(kernel='poly')))\n",
    "models.append(('DT', tree.DecisionTreeRegressor(random_state=seed)))\n",
    "models.append(('RF', RandomForestRegressor(random_state=seed)))\n",
    "models.append(('GB', GradientBoostingRegressor(random_state=seed)))\n",
    "models.append(('KNN', KNeighborsRegressor()))\n",
    "\n",
    "results = []\n",
    "names = []\n",
    "for name, model in models:\n",
    "    mdl = model.fit(X_train, y_train)\n",
    "    y_pred = mdl.predict(X_test)\n",
    "    mape = np.mean(np.abs((y_test - y_pred) / y_test))\n",
    "    results.append(mape)\n",
    "    names.append(name)\n",
    "    msg = \"%s: %f \" % (name, mape)\n",
    "    print(msg)"
   ]
  },
  {
   "cell_type": "markdown",
   "metadata": {},
   "source": [
    "## Linear Regression "
   ]
  },
  {
   "cell_type": "code",
   "execution_count": 119,
   "metadata": {},
   "outputs": [
    {
     "name": "stdout",
     "output_type": "stream",
     "text": [
      "ACCURACY: 0.9784278842530114\n",
      "--------------------------------------------------------------------------------\n",
      "35 rows forecast\n",
      "[1077.49122052 1092.68820668 1106.76763379 1101.44918506 1094.86093812\n",
      " 1092.20682791 1090.88029266 1087.89892267 1081.305122   1076.83194895\n",
      " 1074.83130093 1093.63431985 1111.98240419 1116.84163792 1131.99448604\n",
      " 1135.96034268 1134.89862895 1132.3557201  1134.25912805 1152.11269503\n",
      " 1150.60903567 1162.07139638 1158.41664912 1166.31625148 1185.78496406\n",
      " 1198.83424959 1192.46424064 1205.15437291 1211.10178884 1208.01894233\n",
      " 1198.83000603 1205.1086691  1203.35876242 1138.92515166 1082.68596342]\n"
     ]
    }
   ],
   "source": [
    "clf_lr = LinearRegression()\n",
    "# fit is synonyms with train \n",
    "clf_lr.fit(X_train,y_train)\n",
    "# score is synonyms with test\n",
    "accuracy = clf_lr.score(X_test,y_test)\n",
    "\n",
    "print(\"ACCURACY:\",accuracy)\n",
    "print(\"-\"*80)\n",
    "forecast_set = clf_lr.predict(X_lately)\n",
    "print(\"{0} rows forecast\".format(forecast_out))\n",
    "print(forecast_set)\n"
   ]
  },
  {
   "cell_type": "markdown",
   "metadata": {},
   "source": [
    "### Forecasting"
   ]
  },
  {
   "cell_type": "code",
   "execution_count": 120,
   "metadata": {
    "scrolled": true
   },
   "outputs": [],
   "source": [
    "forecast_set = clf_lr.predict(X_lately)\n",
    "#print(forecast_set,accuracy,forecast_out)\n",
    "\n",
    "# Forecast column set to Nan \n",
    "df_lr['Forecast'] = np.nan\n",
    "\n",
    "last_date = df_lr.iloc[-1].name\n",
    "last_unix = last_date.timestamp()\n",
    "one_day = 86400\n",
    "next_unix = last_unix + one_day\n",
    "\n",
    "# Populate the df with new dates and forecast values\n",
    "for i in forecast_set:\n",
    "    next_date = datetime.datetime.fromtimestamp(next_unix)\n",
    "    next_unix += one_day\n",
    "    df_lr.loc[next_date] = [ np.nan for _ in range(len(df_lr.columns)-1)] + [i]"
   ]
  },
  {
   "cell_type": "code",
   "execution_count": 121,
   "metadata": {},
   "outputs": [
    {
     "data": {
      "text/html": [
       "<div>\n",
       "<style scoped>\n",
       "    .dataframe tbody tr th:only-of-type {\n",
       "        vertical-align: middle;\n",
       "    }\n",
       "\n",
       "    .dataframe tbody tr th {\n",
       "        vertical-align: top;\n",
       "    }\n",
       "\n",
       "    .dataframe thead th {\n",
       "        text-align: right;\n",
       "    }\n",
       "</style>\n",
       "<table border=\"1\" class=\"dataframe\">\n",
       "  <thead>\n",
       "    <tr style=\"text-align: right;\">\n",
       "      <th></th>\n",
       "      <th>Adj. Close</th>\n",
       "      <th>HL_PCT</th>\n",
       "      <th>PCT_change</th>\n",
       "      <th>Adj. Volume</th>\n",
       "      <th>label</th>\n",
       "      <th>Forecast</th>\n",
       "    </tr>\n",
       "    <tr>\n",
       "      <th>Date</th>\n",
       "      <th></th>\n",
       "      <th></th>\n",
       "      <th></th>\n",
       "      <th></th>\n",
       "      <th></th>\n",
       "      <th></th>\n",
       "    </tr>\n",
       "  </thead>\n",
       "  <tbody>\n",
       "    <tr>\n",
       "      <th>2018-03-07 17:00:00</th>\n",
       "      <td>NaN</td>\n",
       "      <td>NaN</td>\n",
       "      <td>NaN</td>\n",
       "      <td>NaN</td>\n",
       "      <td>NaN</td>\n",
       "      <td>1198.830006</td>\n",
       "    </tr>\n",
       "    <tr>\n",
       "      <th>2018-03-08 17:00:00</th>\n",
       "      <td>NaN</td>\n",
       "      <td>NaN</td>\n",
       "      <td>NaN</td>\n",
       "      <td>NaN</td>\n",
       "      <td>NaN</td>\n",
       "      <td>1205.108669</td>\n",
       "    </tr>\n",
       "    <tr>\n",
       "      <th>2018-03-09 17:00:00</th>\n",
       "      <td>NaN</td>\n",
       "      <td>NaN</td>\n",
       "      <td>NaN</td>\n",
       "      <td>NaN</td>\n",
       "      <td>NaN</td>\n",
       "      <td>1203.358762</td>\n",
       "    </tr>\n",
       "    <tr>\n",
       "      <th>2018-03-10 17:00:00</th>\n",
       "      <td>NaN</td>\n",
       "      <td>NaN</td>\n",
       "      <td>NaN</td>\n",
       "      <td>NaN</td>\n",
       "      <td>NaN</td>\n",
       "      <td>1138.925152</td>\n",
       "    </tr>\n",
       "    <tr>\n",
       "      <th>2018-03-11 18:00:00</th>\n",
       "      <td>NaN</td>\n",
       "      <td>NaN</td>\n",
       "      <td>NaN</td>\n",
       "      <td>NaN</td>\n",
       "      <td>NaN</td>\n",
       "      <td>1082.685963</td>\n",
       "    </tr>\n",
       "  </tbody>\n",
       "</table>\n",
       "</div>"
      ],
      "text/plain": [
       "                     Adj. Close  HL_PCT  PCT_change  Adj. Volume  label  \\\n",
       "Date                                                                      \n",
       "2018-03-07 17:00:00         NaN     NaN         NaN          NaN    NaN   \n",
       "2018-03-08 17:00:00         NaN     NaN         NaN          NaN    NaN   \n",
       "2018-03-09 17:00:00         NaN     NaN         NaN          NaN    NaN   \n",
       "2018-03-10 17:00:00         NaN     NaN         NaN          NaN    NaN   \n",
       "2018-03-11 18:00:00         NaN     NaN         NaN          NaN    NaN   \n",
       "\n",
       "                        Forecast  \n",
       "Date                              \n",
       "2018-03-07 17:00:00  1198.830006  \n",
       "2018-03-08 17:00:00  1205.108669  \n",
       "2018-03-09 17:00:00  1203.358762  \n",
       "2018-03-10 17:00:00  1138.925152  \n",
       "2018-03-11 18:00:00  1082.685963  "
      ]
     },
     "execution_count": 121,
     "metadata": {},
     "output_type": "execute_result"
    }
   ],
   "source": [
    "# If the date exits return index or replace it with date\n",
    "df_lr.tail(5)"
   ]
  },
  {
   "cell_type": "markdown",
   "metadata": {},
   "source": [
    "### Plot Predictions"
   ]
  },
  {
   "cell_type": "code",
   "execution_count": 122,
   "metadata": {
    "scrolled": true
   },
   "outputs": [
    {
     "data": {
      "image/png": "[encoded data removed]",
      "text/plain": [
       "<Figure size 432x288 with 1 Axes>"
      ]
     },
     "metadata": {},
     "output_type": "display_data"
    }
   ],
   "source": [
    "df_lr['Adj. Close'].plot()\n",
    "df_lr['Forecast'].plot()\n",
    "plt.legend(loc=4)\n",
    "plt.title(\"Linear Regression\")\n",
    "plt.xlabel('Date')\n",
    "plt.ylabel('Price')\n",
    "plt.show()\n"
   ]
  },
  {
   "cell_type": "code",
   "execution_count": null,
   "metadata": {},
   "outputs": [],
   "source": []
  },
  {
   "cell_type": "markdown",
   "metadata": {},
   "source": [
    "## Support Vector Regression"
   ]
  },
  {
   "cell_type": "code",
   "execution_count": 123,
   "metadata": {},
   "outputs": [
    {
     "name": "stdout",
     "output_type": "stream",
     "text": [
      "ACCURACY: 0.6472697771112879\n",
      "--------------------------------------------------------------------------------\n",
      "35 rows forecast\n",
      "[1075.38254785 1124.58476094 1239.88733169 1197.22377305 1164.0158031\n",
      " 1160.92328496 1188.62067517 1177.50005121 1127.08875305 1109.45513818\n",
      " 1113.64981021 1219.69433809 1253.69256208 1227.72005561 1312.04451797\n",
      " 1323.68497898 1318.81545771 1333.56377413 1336.84030427 1443.73303863\n",
      " 1313.33993556 1461.52270955 1413.68371758 1477.27129487 1574.9353019\n",
      " 1578.8854049  1503.80783731 1620.09492707 1650.68628394 1560.66441382\n",
      " 1513.73251446 1600.64596109 1525.4593957  1137.19136519 1380.18592747]\n"
     ]
    }
   ],
   "source": [
    "clf_svr = svm.SVR(kernel='poly')\n",
    "# fit is synonyms with train \n",
    "clf_svr.fit(X_train,y_train)\n",
    "# score is synonyms with test\n",
    "accuracy = clf_svr.score(X_test,y_test)\n",
    "\n",
    "print(\"ACCURACY:\",accuracy)\n",
    "print(\"-\"*80)\n",
    "forecast_set = clf_svr.predict(X_lately)\n",
    "print(\"{0} rows forecast\".format(forecast_out))\n",
    "print(forecast_set)"
   ]
  },
  {
   "cell_type": "markdown",
   "metadata": {},
   "source": [
    "### Forecasting"
   ]
  },
  {
   "cell_type": "code",
   "execution_count": 124,
   "metadata": {},
   "outputs": [],
   "source": [
    "forecast_set = clf_svr.predict(X_lately)\n",
    "#print(forecast_set,accuracy,forecast_out)\n",
    "\n",
    "# Forecast column set to Nan \n",
    "df_svr['Forecast'] = np.nan\n",
    "\n",
    "last_date = df_svr.iloc[-1].name\n",
    "last_unix = last_date.timestamp()\n",
    "one_day = 86400\n",
    "next_unix = last_unix + one_day\n",
    "\n",
    "# Populate the df with new dates and forecast values\n",
    "for i in forecast_set:\n",
    "    next_date = datetime.datetime.fromtimestamp(next_unix)\n",
    "    next_unix += one_day\n",
    "    df_svr.loc[next_date] = [ np.nan for _ in range(len(df_svr.columns)-1)] + [i]"
   ]
  },
  {
   "cell_type": "code",
   "execution_count": 125,
   "metadata": {},
   "outputs": [
    {
     "data": {
      "text/html": [
       "<div>\n",
       "<style scoped>\n",
       "    .dataframe tbody tr th:only-of-type {\n",
       "        vertical-align: middle;\n",
       "    }\n",
       "\n",
       "    .dataframe tbody tr th {\n",
       "        vertical-align: top;\n",
       "    }\n",
       "\n",
       "    .dataframe thead th {\n",
       "        text-align: right;\n",
       "    }\n",
       "</style>\n",
       "<table border=\"1\" class=\"dataframe\">\n",
       "  <thead>\n",
       "    <tr style=\"text-align: right;\">\n",
       "      <th></th>\n",
       "      <th>Adj. Close</th>\n",
       "      <th>HL_PCT</th>\n",
       "      <th>PCT_change</th>\n",
       "      <th>Adj. Volume</th>\n",
       "      <th>label</th>\n",
       "      <th>Forecast</th>\n",
       "    </tr>\n",
       "    <tr>\n",
       "      <th>Date</th>\n",
       "      <th></th>\n",
       "      <th></th>\n",
       "      <th></th>\n",
       "      <th></th>\n",
       "      <th></th>\n",
       "      <th></th>\n",
       "    </tr>\n",
       "  </thead>\n",
       "  <tbody>\n",
       "    <tr>\n",
       "      <th>2018-03-07 17:00:00</th>\n",
       "      <td>NaN</td>\n",
       "      <td>NaN</td>\n",
       "      <td>NaN</td>\n",
       "      <td>NaN</td>\n",
       "      <td>NaN</td>\n",
       "      <td>1513.732514</td>\n",
       "    </tr>\n",
       "    <tr>\n",
       "      <th>2018-03-08 17:00:00</th>\n",
       "      <td>NaN</td>\n",
       "      <td>NaN</td>\n",
       "      <td>NaN</td>\n",
       "      <td>NaN</td>\n",
       "      <td>NaN</td>\n",
       "      <td>1600.645961</td>\n",
       "    </tr>\n",
       "    <tr>\n",
       "      <th>2018-03-09 17:00:00</th>\n",
       "      <td>NaN</td>\n",
       "      <td>NaN</td>\n",
       "      <td>NaN</td>\n",
       "      <td>NaN</td>\n",
       "      <td>NaN</td>\n",
       "      <td>1525.459396</td>\n",
       "    </tr>\n",
       "    <tr>\n",
       "      <th>2018-03-10 17:00:00</th>\n",
       "      <td>NaN</td>\n",
       "      <td>NaN</td>\n",
       "      <td>NaN</td>\n",
       "      <td>NaN</td>\n",
       "      <td>NaN</td>\n",
       "      <td>1137.191365</td>\n",
       "    </tr>\n",
       "    <tr>\n",
       "      <th>2018-03-11 18:00:00</th>\n",
       "      <td>NaN</td>\n",
       "      <td>NaN</td>\n",
       "      <td>NaN</td>\n",
       "      <td>NaN</td>\n",
       "      <td>NaN</td>\n",
       "      <td>1380.185927</td>\n",
       "    </tr>\n",
       "  </tbody>\n",
       "</table>\n",
       "</div>"
      ],
      "text/plain": [
       "                     Adj. Close  HL_PCT  PCT_change  Adj. Volume  label  \\\n",
       "Date                                                                      \n",
       "2018-03-07 17:00:00         NaN     NaN         NaN          NaN    NaN   \n",
       "2018-03-08 17:00:00         NaN     NaN         NaN          NaN    NaN   \n",
       "2018-03-09 17:00:00         NaN     NaN         NaN          NaN    NaN   \n",
       "2018-03-10 17:00:00         NaN     NaN         NaN          NaN    NaN   \n",
       "2018-03-11 18:00:00         NaN     NaN         NaN          NaN    NaN   \n",
       "\n",
       "                        Forecast  \n",
       "Date                              \n",
       "2018-03-07 17:00:00  1513.732514  \n",
       "2018-03-08 17:00:00  1600.645961  \n",
       "2018-03-09 17:00:00  1525.459396  \n",
       "2018-03-10 17:00:00  1137.191365  \n",
       "2018-03-11 18:00:00  1380.185927  "
      ]
     },
     "execution_count": 125,
     "metadata": {},
     "output_type": "execute_result"
    }
   ],
   "source": [
    "# If the date exits return index or replace it with date\n",
    "df_svr.tail(5)"
   ]
  },
  {
   "cell_type": "markdown",
   "metadata": {},
   "source": [
    "### Plot Predictions"
   ]
  },
  {
   "cell_type": "code",
   "execution_count": 126,
   "metadata": {},
   "outputs": [
    {
     "data": {
      "image/png": "[encoded data removed]",
      "text/plain": [
       "<Figure size 432x288 with 1 Axes>"
      ]
     },
     "metadata": {},
     "output_type": "display_data"
    }
   ],
   "source": [
    "df_svr['Adj. Close'].plot()\n",
    "df_svr['Forecast'].plot()\n",
    "plt.legend(loc=4)\n",
    "plt.title(\"Support Vector Regression\")\n",
    "plt.xlabel('Date')\n",
    "plt.ylabel('Price')\n",
    "plt.show()"
   ]
  },
  {
   "cell_type": "markdown",
   "metadata": {},
   "source": [
    "## Decision Tree Regressor"
   ]
  },
  {
   "cell_type": "code",
   "execution_count": 127,
   "metadata": {},
   "outputs": [
    {
     "name": "stdout",
     "output_type": "stream",
     "text": [
      "ACCURACY: 0.970558165741581\n",
      "--------------------------------------------------------------------------------\n",
      "35 rows forecast\n",
      "[1084.43 1055.41 1130.65 1043.43 1070.85 1054.14 1091.36 1091.36 1095.5\n",
      " 1103.59 1113.75 1109.9  1128.09 1143.7  1117.51 1094.76 1071.41 1117.51\n",
      " 1094.76 1109.9  1115.04 1165.93 1160.84 1165.93 1139.91 1148.89 1143.5\n",
      " 1100.07 1100.07 1095.8  1094.   1053.15 1176.17 1006.94 1006.94]\n"
     ]
    }
   ],
   "source": [
    "clf_dt = tree.DecisionTreeRegressor(random_state=seed)\n",
    "# fit is synonyms with train \n",
    "clf_dt.fit(X_train,y_train)\n",
    "# score is synonyms with test\n",
    "accuracy = clf_dt.score(X_test,y_test)\n",
    "\n",
    "print(\"ACCURACY:\",accuracy)\n",
    "print(\"-\"*80)\n",
    "forecast_set = clf_dt.predict(X_lately)\n",
    "print(\"{0} rows forecast\".format(forecast_out))\n",
    "print(forecast_set)"
   ]
  },
  {
   "cell_type": "markdown",
   "metadata": {},
   "source": [
    "### Forecasting"
   ]
  },
  {
   "cell_type": "code",
   "execution_count": 128,
   "metadata": {},
   "outputs": [],
   "source": [
    "forecast_set = clf_dt.predict(X_lately)\n",
    "#print(forecast_set,accuracy,forecast_out)\n",
    "\n",
    "# Forecast column set to Nan \n",
    "df_dt['Forecast'] = np.nan\n",
    "\n",
    "last_date = df_dt.iloc[-1].name\n",
    "last_unix = last_date.timestamp()\n",
    "one_day = 86400\n",
    "next_unix = last_unix + one_day\n",
    "\n",
    "# Populate the df with new dates and forecast values\n",
    "for i in forecast_set:\n",
    "    next_date = datetime.datetime.fromtimestamp(next_unix)\n",
    "    next_unix += one_day\n",
    "    df_dt.loc[next_date] = [ np.nan for _ in range(len(df_dt.columns)-1)] + [i]"
   ]
  },
  {
   "cell_type": "code",
   "execution_count": 129,
   "metadata": {},
   "outputs": [
    {
     "data": {
      "text/html": [
       "<div>\n",
       "<style scoped>\n",
       "    .dataframe tbody tr th:only-of-type {\n",
       "        vertical-align: middle;\n",
       "    }\n",
       "\n",
       "    .dataframe tbody tr th {\n",
       "        vertical-align: top;\n",
       "    }\n",
       "\n",
       "    .dataframe thead th {\n",
       "        text-align: right;\n",
       "    }\n",
       "</style>\n",
       "<table border=\"1\" class=\"dataframe\">\n",
       "  <thead>\n",
       "    <tr style=\"text-align: right;\">\n",
       "      <th></th>\n",
       "      <th>Adj. Close</th>\n",
       "      <th>HL_PCT</th>\n",
       "      <th>PCT_change</th>\n",
       "      <th>Adj. Volume</th>\n",
       "      <th>label</th>\n",
       "      <th>Forecast</th>\n",
       "    </tr>\n",
       "    <tr>\n",
       "      <th>Date</th>\n",
       "      <th></th>\n",
       "      <th></th>\n",
       "      <th></th>\n",
       "      <th></th>\n",
       "      <th></th>\n",
       "      <th></th>\n",
       "    </tr>\n",
       "  </thead>\n",
       "  <tbody>\n",
       "    <tr>\n",
       "      <th>2018-03-07 17:00:00</th>\n",
       "      <td>NaN</td>\n",
       "      <td>NaN</td>\n",
       "      <td>NaN</td>\n",
       "      <td>NaN</td>\n",
       "      <td>NaN</td>\n",
       "      <td>1094.00</td>\n",
       "    </tr>\n",
       "    <tr>\n",
       "      <th>2018-03-08 17:00:00</th>\n",
       "      <td>NaN</td>\n",
       "      <td>NaN</td>\n",
       "      <td>NaN</td>\n",
       "      <td>NaN</td>\n",
       "      <td>NaN</td>\n",
       "      <td>1053.15</td>\n",
       "    </tr>\n",
       "    <tr>\n",
       "      <th>2018-03-09 17:00:00</th>\n",
       "      <td>NaN</td>\n",
       "      <td>NaN</td>\n",
       "      <td>NaN</td>\n",
       "      <td>NaN</td>\n",
       "      <td>NaN</td>\n",
       "      <td>1176.17</td>\n",
       "    </tr>\n",
       "    <tr>\n",
       "      <th>2018-03-10 17:00:00</th>\n",
       "      <td>NaN</td>\n",
       "      <td>NaN</td>\n",
       "      <td>NaN</td>\n",
       "      <td>NaN</td>\n",
       "      <td>NaN</td>\n",
       "      <td>1006.94</td>\n",
       "    </tr>\n",
       "    <tr>\n",
       "      <th>2018-03-11 18:00:00</th>\n",
       "      <td>NaN</td>\n",
       "      <td>NaN</td>\n",
       "      <td>NaN</td>\n",
       "      <td>NaN</td>\n",
       "      <td>NaN</td>\n",
       "      <td>1006.94</td>\n",
       "    </tr>\n",
       "  </tbody>\n",
       "</table>\n",
       "</div>"
      ],
      "text/plain": [
       "                     Adj. Close  HL_PCT  PCT_change  Adj. Volume  label  \\\n",
       "Date                                                                      \n",
       "2018-03-07 17:00:00         NaN     NaN         NaN          NaN    NaN   \n",
       "2018-03-08 17:00:00         NaN     NaN         NaN          NaN    NaN   \n",
       "2018-03-09 17:00:00         NaN     NaN         NaN          NaN    NaN   \n",
       "2018-03-10 17:00:00         NaN     NaN         NaN          NaN    NaN   \n",
       "2018-03-11 18:00:00         NaN     NaN         NaN          NaN    NaN   \n",
       "\n",
       "                     Forecast  \n",
       "Date                           \n",
       "2018-03-07 17:00:00   1094.00  \n",
       "2018-03-08 17:00:00   1053.15  \n",
       "2018-03-09 17:00:00   1176.17  \n",
       "2018-03-10 17:00:00   1006.94  \n",
       "2018-03-11 18:00:00   1006.94  "
      ]
     },
     "execution_count": 129,
     "metadata": {},
     "output_type": "execute_result"
    }
   ],
   "source": [
    "# If the date exits return index or replace it with date\n",
    "df_dt.tail()"
   ]
  },
  {
   "cell_type": "markdown",
   "metadata": {},
   "source": [
    "### Plot Predictions"
   ]
  },
  {
   "cell_type": "code",
   "execution_count": 130,
   "metadata": {},
   "outputs": [
    {
     "data": {
      "image/png": "[encoded data removed]",
      "text/plain": [
       "<Figure size 432x288 with 1 Axes>"
      ]
     },
     "metadata": {},
     "output_type": "display_data"
    }
   ],
   "source": [
    "df_dt['Adj. Close'].plot()\n",
    "df_dt['Forecast'].plot()\n",
    "plt.legend(loc=4)\n",
    "plt.title(\"Decision Tree Regression\")\n",
    "plt.xlabel('Date')\n",
    "plt.ylabel('Price')\n",
    "plt.show()"
   ]
  },
  {
   "cell_type": "markdown",
   "metadata": {},
   "source": [
    "## Random Forest Regressor"
   ]
  },
  {
   "cell_type": "code",
   "execution_count": 131,
   "metadata": {},
   "outputs": [
    {
     "name": "stdout",
     "output_type": "stream",
     "text": [
      "ACCURACY: 0.9833232270173163\n",
      "--------------------------------------------------------------------------------\n",
      "35 rows forecast\n",
      "[1092.8536 1078.4563 1121.1963 1060.3552 1089.626  1063.2083 1102.2251\n",
      " 1095.2777 1099.7608 1102.5655 1104.8481 1115.595  1128.3053 1113.1139\n",
      " 1112.7045 1111.3331 1076.5998 1111.2739 1097.2996 1129.7376 1120.2422\n",
      " 1131.464  1123.6837 1150.7148 1138.6573 1138.3878 1124.1216 1100.6937\n",
      " 1104.4411 1097.6451 1099.6114 1075.6029 1104.1866 1088.4975 1057.2326]\n"
     ]
    }
   ],
   "source": [
    "clf_rf = RandomForestRegressor(random_state=seed)\n",
    "# fit is synonyms with train \n",
    "clf_rf.fit(X_train,y_train)\n",
    "# score is synonyms with test\n",
    "accuracy = clf_rf.score(X_test,y_test)\n",
    "\n",
    "print(\"ACCURACY:\",accuracy)\n",
    "print(\"-\"*80)\n",
    "forecast_set = clf_rf.predict(X_lately)\n",
    "print(\"{0} rows forecast\".format(forecast_out))\n",
    "print(forecast_set)"
   ]
  },
  {
   "cell_type": "markdown",
   "metadata": {},
   "source": [
    "### Forecasting"
   ]
  },
  {
   "cell_type": "code",
   "execution_count": 132,
   "metadata": {},
   "outputs": [],
   "source": [
    "forecast_set = clf_rf.predict(X_lately)\n",
    "#print(forecast_set,accuracy,forecast_out)\n",
    "\n",
    "# Forecast column set to Nan \n",
    "df_rf['Forecast'] = np.nan\n",
    "\n",
    "last_date = df_rf.iloc[-1].name\n",
    "last_unix = last_date.timestamp()\n",
    "one_day = 86400\n",
    "next_unix = last_unix + one_day\n",
    "\n",
    "# Populate the df with new dates and forecast values\n",
    "for i in forecast_set:\n",
    "    next_date = datetime.datetime.fromtimestamp(next_unix)\n",
    "    next_unix += one_day\n",
    "    df_rf.loc[next_date] = [ np.nan for _ in range(len(df_rf.columns)-1)] + [i]"
   ]
  },
  {
   "cell_type": "code",
   "execution_count": 133,
   "metadata": {},
   "outputs": [
    {
     "data": {
      "text/html": [
       "<div>\n",
       "<style scoped>\n",
       "    .dataframe tbody tr th:only-of-type {\n",
       "        vertical-align: middle;\n",
       "    }\n",
       "\n",
       "    .dataframe tbody tr th {\n",
       "        vertical-align: top;\n",
       "    }\n",
       "\n",
       "    .dataframe thead th {\n",
       "        text-align: right;\n",
       "    }\n",
       "</style>\n",
       "<table border=\"1\" class=\"dataframe\">\n",
       "  <thead>\n",
       "    <tr style=\"text-align: right;\">\n",
       "      <th></th>\n",
       "      <th>Adj. Close</th>\n",
       "      <th>HL_PCT</th>\n",
       "      <th>PCT_change</th>\n",
       "      <th>Adj. Volume</th>\n",
       "      <th>label</th>\n",
       "      <th>Forecast</th>\n",
       "    </tr>\n",
       "    <tr>\n",
       "      <th>Date</th>\n",
       "      <th></th>\n",
       "      <th></th>\n",
       "      <th></th>\n",
       "      <th></th>\n",
       "      <th></th>\n",
       "      <th></th>\n",
       "    </tr>\n",
       "  </thead>\n",
       "  <tbody>\n",
       "    <tr>\n",
       "      <th>2018-03-07 17:00:00</th>\n",
       "      <td>NaN</td>\n",
       "      <td>NaN</td>\n",
       "      <td>NaN</td>\n",
       "      <td>NaN</td>\n",
       "      <td>NaN</td>\n",
       "      <td>1099.6114</td>\n",
       "    </tr>\n",
       "    <tr>\n",
       "      <th>2018-03-08 17:00:00</th>\n",
       "      <td>NaN</td>\n",
       "      <td>NaN</td>\n",
       "      <td>NaN</td>\n",
       "      <td>NaN</td>\n",
       "      <td>NaN</td>\n",
       "      <td>1075.6029</td>\n",
       "    </tr>\n",
       "    <tr>\n",
       "      <th>2018-03-09 17:00:00</th>\n",
       "      <td>NaN</td>\n",
       "      <td>NaN</td>\n",
       "      <td>NaN</td>\n",
       "      <td>NaN</td>\n",
       "      <td>NaN</td>\n",
       "      <td>1104.1866</td>\n",
       "    </tr>\n",
       "    <tr>\n",
       "      <th>2018-03-10 17:00:00</th>\n",
       "      <td>NaN</td>\n",
       "      <td>NaN</td>\n",
       "      <td>NaN</td>\n",
       "      <td>NaN</td>\n",
       "      <td>NaN</td>\n",
       "      <td>1088.4975</td>\n",
       "    </tr>\n",
       "    <tr>\n",
       "      <th>2018-03-11 18:00:00</th>\n",
       "      <td>NaN</td>\n",
       "      <td>NaN</td>\n",
       "      <td>NaN</td>\n",
       "      <td>NaN</td>\n",
       "      <td>NaN</td>\n",
       "      <td>1057.2326</td>\n",
       "    </tr>\n",
       "  </tbody>\n",
       "</table>\n",
       "</div>"
      ],
      "text/plain": [
       "                     Adj. Close  HL_PCT  PCT_change  Adj. Volume  label  \\\n",
       "Date                                                                      \n",
       "2018-03-07 17:00:00         NaN     NaN         NaN          NaN    NaN   \n",
       "2018-03-08 17:00:00         NaN     NaN         NaN          NaN    NaN   \n",
       "2018-03-09 17:00:00         NaN     NaN         NaN          NaN    NaN   \n",
       "2018-03-10 17:00:00         NaN     NaN         NaN          NaN    NaN   \n",
       "2018-03-11 18:00:00         NaN     NaN         NaN          NaN    NaN   \n",
       "\n",
       "                      Forecast  \n",
       "Date                            \n",
       "2018-03-07 17:00:00  1099.6114  \n",
       "2018-03-08 17:00:00  1075.6029  \n",
       "2018-03-09 17:00:00  1104.1866  \n",
       "2018-03-10 17:00:00  1088.4975  \n",
       "2018-03-11 18:00:00  1057.2326  "
      ]
     },
     "execution_count": 133,
     "metadata": {},
     "output_type": "execute_result"
    }
   ],
   "source": [
    "# If the date exits return index or replace it with date\n",
    "df_rf.tail()"
   ]
  },
  {
   "cell_type": "markdown",
   "metadata": {},
   "source": [
    "### Plot Predictions"
   ]
  },
  {
   "cell_type": "code",
   "execution_count": 134,
   "metadata": {},
   "outputs": [
    {
     "data": {
      "image/png": "[encoded data removed]",
      "text/plain": [
       "<Figure size 432x288 with 1 Axes>"
      ]
     },
     "metadata": {},
     "output_type": "display_data"
    }
   ],
   "source": [
    "df_rf['Adj. Close'].plot()\n",
    "df_rf['Forecast'].plot()\n",
    "plt.legend(loc=4)\n",
    "plt.title(\"Random Forrest Regression\")\n",
    "plt.xlabel('Date')\n",
    "plt.ylabel('Price')\n",
    "plt.show()"
   ]
  },
  {
   "cell_type": "markdown",
   "metadata": {},
   "source": [
    "## Gradient Boosting Regressor"
   ]
  },
  {
   "cell_type": "code",
   "execution_count": 135,
   "metadata": {},
   "outputs": [
    {
     "name": "stdout",
     "output_type": "stream",
     "text": [
      "ACCURACY: 0.9836800307495368\n",
      "--------------------------------------------------------------------------------\n",
      "35 rows forecast\n",
      "[1105.32383656 1073.72838357 1087.09311624 1090.27373672 1106.60143932\n",
      " 1092.49659518 1109.41021913 1101.41470075 1108.39767765 1108.39767765\n",
      " 1107.40237107 1103.64334291 1111.31121698 1109.04397047 1103.58358305\n",
      " 1113.05212965 1102.09089184 1107.06445934 1106.93121836 1112.19852586\n",
      " 1116.17348374 1125.90622083 1129.04705078 1132.03995323 1126.06091581\n",
      " 1124.00246203 1131.34347042 1098.51486195 1087.02152746 1103.5202741\n",
      " 1100.21797557 1079.76711794 1077.21725024 1069.30013527 1047.57703744]\n"
     ]
    }
   ],
   "source": [
    "clf_gb = GradientBoostingRegressor()\n",
    "# fit is synonyms with train \n",
    "clf_gb.fit(X_train,y_train)\n",
    "# score is synonyms with test\n",
    "accuracy = clf_gb.score(X_test,y_test)\n",
    "\n",
    "print(\"ACCURACY:\",accuracy)\n",
    "print(\"-\"*80)\n",
    "forecast_set = clf_gb.predict(X_lately)\n",
    "print(\"{0} rows forecast\".format(forecast_out))\n",
    "print(forecast_set)"
   ]
  },
  {
   "cell_type": "markdown",
   "metadata": {},
   "source": [
    "### Forecasting"
   ]
  },
  {
   "cell_type": "code",
   "execution_count": 136,
   "metadata": {},
   "outputs": [],
   "source": [
    "forecast_set = clf_gb.predict(X_lately)\n",
    "#print(forecast_set,accuracy,forecast_out)\n",
    "\n",
    "# Forecast column set to Nan \n",
    "df_gb['Forecast'] = np.nan\n",
    "\n",
    "last_date = df_gb.iloc[-1].name\n",
    "last_unix = last_date.timestamp()\n",
    "one_day = 86400\n",
    "next_unix = last_unix + one_day\n",
    "\n",
    "# Populate the df with new dates and forecast values\n",
    "for i in forecast_set:\n",
    "    next_date = datetime.datetime.fromtimestamp(next_unix)\n",
    "    next_unix += one_day\n",
    "    df_gb.loc[next_date] = [ np.nan for _ in range(len(df_gb.columns)-1)] + [i]"
   ]
  },
  {
   "cell_type": "code",
   "execution_count": 138,
   "metadata": {},
   "outputs": [
    {
     "data": {
      "text/html": [
       "<div>\n",
       "<style scoped>\n",
       "    .dataframe tbody tr th:only-of-type {\n",
       "        vertical-align: middle;\n",
       "    }\n",
       "\n",
       "    .dataframe tbody tr th {\n",
       "        vertical-align: top;\n",
       "    }\n",
       "\n",
       "    .dataframe thead th {\n",
       "        text-align: right;\n",
       "    }\n",
       "</style>\n",
       "<table border=\"1\" class=\"dataframe\">\n",
       "  <thead>\n",
       "    <tr style=\"text-align: right;\">\n",
       "      <th></th>\n",
       "      <th>Adj. Close</th>\n",
       "      <th>HL_PCT</th>\n",
       "      <th>PCT_change</th>\n",
       "      <th>Adj. Volume</th>\n",
       "      <th>label</th>\n",
       "      <th>Forecast</th>\n",
       "    </tr>\n",
       "    <tr>\n",
       "      <th>Date</th>\n",
       "      <th></th>\n",
       "      <th></th>\n",
       "      <th></th>\n",
       "      <th></th>\n",
       "      <th></th>\n",
       "      <th></th>\n",
       "    </tr>\n",
       "  </thead>\n",
       "  <tbody>\n",
       "    <tr>\n",
       "      <th>2018-03-07 17:00:00</th>\n",
       "      <td>NaN</td>\n",
       "      <td>NaN</td>\n",
       "      <td>NaN</td>\n",
       "      <td>NaN</td>\n",
       "      <td>NaN</td>\n",
       "      <td>1100.217976</td>\n",
       "    </tr>\n",
       "    <tr>\n",
       "      <th>2018-03-08 17:00:00</th>\n",
       "      <td>NaN</td>\n",
       "      <td>NaN</td>\n",
       "      <td>NaN</td>\n",
       "      <td>NaN</td>\n",
       "      <td>NaN</td>\n",
       "      <td>1079.767118</td>\n",
       "    </tr>\n",
       "    <tr>\n",
       "      <th>2018-03-09 17:00:00</th>\n",
       "      <td>NaN</td>\n",
       "      <td>NaN</td>\n",
       "      <td>NaN</td>\n",
       "      <td>NaN</td>\n",
       "      <td>NaN</td>\n",
       "      <td>1077.217250</td>\n",
       "    </tr>\n",
       "    <tr>\n",
       "      <th>2018-03-10 17:00:00</th>\n",
       "      <td>NaN</td>\n",
       "      <td>NaN</td>\n",
       "      <td>NaN</td>\n",
       "      <td>NaN</td>\n",
       "      <td>NaN</td>\n",
       "      <td>1069.300135</td>\n",
       "    </tr>\n",
       "    <tr>\n",
       "      <th>2018-03-11 18:00:00</th>\n",
       "      <td>NaN</td>\n",
       "      <td>NaN</td>\n",
       "      <td>NaN</td>\n",
       "      <td>NaN</td>\n",
       "      <td>NaN</td>\n",
       "      <td>1047.577037</td>\n",
       "    </tr>\n",
       "  </tbody>\n",
       "</table>\n",
       "</div>"
      ],
      "text/plain": [
       "                     Adj. Close  HL_PCT  PCT_change  Adj. Volume  label  \\\n",
       "Date                                                                      \n",
       "2018-03-07 17:00:00         NaN     NaN         NaN          NaN    NaN   \n",
       "2018-03-08 17:00:00         NaN     NaN         NaN          NaN    NaN   \n",
       "2018-03-09 17:00:00         NaN     NaN         NaN          NaN    NaN   \n",
       "2018-03-10 17:00:00         NaN     NaN         NaN          NaN    NaN   \n",
       "2018-03-11 18:00:00         NaN     NaN         NaN          NaN    NaN   \n",
       "\n",
       "                        Forecast  \n",
       "Date                              \n",
       "2018-03-07 17:00:00  1100.217976  \n",
       "2018-03-08 17:00:00  1079.767118  \n",
       "2018-03-09 17:00:00  1077.217250  \n",
       "2018-03-10 17:00:00  1069.300135  \n",
       "2018-03-11 18:00:00  1047.577037  "
      ]
     },
     "execution_count": 138,
     "metadata": {},
     "output_type": "execute_result"
    }
   ],
   "source": [
    "# If the date exits return index or replace it with date\n",
    "df_gb.tail(5)"
   ]
  },
  {
   "cell_type": "markdown",
   "metadata": {},
   "source": [
    "### Plot Predictions"
   ]
  },
  {
   "cell_type": "code",
   "execution_count": 139,
   "metadata": {},
   "outputs": [
    {
     "data": {
      "image/png": "[encoded data removed]",
      "text/plain": [
       "<Figure size 432x288 with 1 Axes>"
      ]
     },
     "metadata": {},
     "output_type": "display_data"
    }
   ],
   "source": [
    "df_gb['Adj. Close'].plot()\n",
    "df_gb['Forecast'].plot()\n",
    "plt.legend(loc=4)\n",
    "plt.title(\"Gradient Boosting Regression\")\n",
    "plt.xlabel('Date')\n",
    "plt.ylabel('Price')\n",
    "plt.show()"
   ]
  },
  {
   "cell_type": "markdown",
   "metadata": {},
   "source": [
    "## KNeighbors Regressor"
   ]
  },
  {
   "cell_type": "code",
   "execution_count": 140,
   "metadata": {},
   "outputs": [
    {
     "name": "stdout",
     "output_type": "stream",
     "text": [
      "ACCURACY: 0.972024991623426\n",
      "--------------------------------------------------------------------------------\n",
      "35 rows forecast\n",
      "[1066.09  1095.87  1108.228 1074.818 1100.162 1088.13  1091.11  1085.836\n",
      " 1100.162 1093.114 1085.836 1117.89  1140.07  1079.31  1133.022 1119.256\n",
      " 1085.064 1114.14  1109.284 1107.788 1091.004 1112.61  1084.718 1117.16\n",
      " 1107.788 1117.11  1090.024 1112.56  1112.56  1115.754 1094.216 1096.046\n",
      " 1108.178 1117.22   850.642]\n"
     ]
    }
   ],
   "source": [
    "clf_knn = KNeighborsRegressor()\n",
    "# fit is synonyms with train \n",
    "clf_knn.fit(X_train,y_train)\n",
    "# score is synonyms with test\n",
    "accuracy = clf_knn.score(X_test,y_test)\n",
    "\n",
    "print(\"ACCURACY:\",accuracy)\n",
    "print(\"-\"*80)\n",
    "forecast_set = clf_knn.predict(X_lately)\n",
    "print(\"{0} rows forecast\".format(forecast_out))\n",
    "print(forecast_set)"
   ]
  },
  {
   "cell_type": "markdown",
   "metadata": {},
   "source": [
    "### Forecasting"
   ]
  },
  {
   "cell_type": "code",
   "execution_count": 141,
   "metadata": {},
   "outputs": [],
   "source": [
    "forecast_set = clf_knn.predict(X_lately)\n",
    "#print(forecast_set,accuracy,forecast_out)\n",
    "\n",
    "# Forecast column set to Nan \n",
    "df_knn['Forecast'] = np.nan\n",
    "\n",
    "last_date = df_knn.iloc[-1].name\n",
    "last_unix = last_date.timestamp()\n",
    "one_day = 86400\n",
    "next_unix = last_unix + one_day\n",
    "\n",
    "# Populate the df with new dates and forecast values\n",
    "for i in forecast_set:\n",
    "    next_date = datetime.datetime.fromtimestamp(next_unix)\n",
    "    next_unix += one_day\n",
    "    df_knn.loc[next_date] = [ np.nan for _ in range(len(df_knn.columns)-1)] + [i]"
   ]
  },
  {
   "cell_type": "code",
   "execution_count": 142,
   "metadata": {},
   "outputs": [
    {
     "data": {
      "text/html": [
       "<div>\n",
       "<style scoped>\n",
       "    .dataframe tbody tr th:only-of-type {\n",
       "        vertical-align: middle;\n",
       "    }\n",
       "\n",
       "    .dataframe tbody tr th {\n",
       "        vertical-align: top;\n",
       "    }\n",
       "\n",
       "    .dataframe thead th {\n",
       "        text-align: right;\n",
       "    }\n",
       "</style>\n",
       "<table border=\"1\" class=\"dataframe\">\n",
       "  <thead>\n",
       "    <tr style=\"text-align: right;\">\n",
       "      <th></th>\n",
       "      <th>Adj. Close</th>\n",
       "      <th>HL_PCT</th>\n",
       "      <th>PCT_change</th>\n",
       "      <th>Adj. Volume</th>\n",
       "      <th>label</th>\n",
       "      <th>Forecast</th>\n",
       "    </tr>\n",
       "    <tr>\n",
       "      <th>Date</th>\n",
       "      <th></th>\n",
       "      <th></th>\n",
       "      <th></th>\n",
       "      <th></th>\n",
       "      <th></th>\n",
       "      <th></th>\n",
       "    </tr>\n",
       "  </thead>\n",
       "  <tbody>\n",
       "    <tr>\n",
       "      <th>2018-03-07 17:00:00</th>\n",
       "      <td>NaN</td>\n",
       "      <td>NaN</td>\n",
       "      <td>NaN</td>\n",
       "      <td>NaN</td>\n",
       "      <td>NaN</td>\n",
       "      <td>1094.216</td>\n",
       "    </tr>\n",
       "    <tr>\n",
       "      <th>2018-03-08 17:00:00</th>\n",
       "      <td>NaN</td>\n",
       "      <td>NaN</td>\n",
       "      <td>NaN</td>\n",
       "      <td>NaN</td>\n",
       "      <td>NaN</td>\n",
       "      <td>1096.046</td>\n",
       "    </tr>\n",
       "    <tr>\n",
       "      <th>2018-03-09 17:00:00</th>\n",
       "      <td>NaN</td>\n",
       "      <td>NaN</td>\n",
       "      <td>NaN</td>\n",
       "      <td>NaN</td>\n",
       "      <td>NaN</td>\n",
       "      <td>1108.178</td>\n",
       "    </tr>\n",
       "    <tr>\n",
       "      <th>2018-03-10 17:00:00</th>\n",
       "      <td>NaN</td>\n",
       "      <td>NaN</td>\n",
       "      <td>NaN</td>\n",
       "      <td>NaN</td>\n",
       "      <td>NaN</td>\n",
       "      <td>1117.220</td>\n",
       "    </tr>\n",
       "    <tr>\n",
       "      <th>2018-03-11 18:00:00</th>\n",
       "      <td>NaN</td>\n",
       "      <td>NaN</td>\n",
       "      <td>NaN</td>\n",
       "      <td>NaN</td>\n",
       "      <td>NaN</td>\n",
       "      <td>850.642</td>\n",
       "    </tr>\n",
       "  </tbody>\n",
       "</table>\n",
       "</div>"
      ],
      "text/plain": [
       "                     Adj. Close  HL_PCT  PCT_change  Adj. Volume  label  \\\n",
       "Date                                                                      \n",
       "2018-03-07 17:00:00         NaN     NaN         NaN          NaN    NaN   \n",
       "2018-03-08 17:00:00         NaN     NaN         NaN          NaN    NaN   \n",
       "2018-03-09 17:00:00         NaN     NaN         NaN          NaN    NaN   \n",
       "2018-03-10 17:00:00         NaN     NaN         NaN          NaN    NaN   \n",
       "2018-03-11 18:00:00         NaN     NaN         NaN          NaN    NaN   \n",
       "\n",
       "                     Forecast  \n",
       "Date                           \n",
       "2018-03-07 17:00:00  1094.216  \n",
       "2018-03-08 17:00:00  1096.046  \n",
       "2018-03-09 17:00:00  1108.178  \n",
       "2018-03-10 17:00:00  1117.220  \n",
       "2018-03-11 18:00:00   850.642  "
      ]
     },
     "execution_count": 142,
     "metadata": {},
     "output_type": "execute_result"
    }
   ],
   "source": [
    "df_knn.tail(5)"
   ]
  },
  {
   "cell_type": "markdown",
   "metadata": {},
   "source": [
    "### Plot Predictions"
   ]
  },
  {
   "cell_type": "code",
   "execution_count": 143,
   "metadata": {},
   "outputs": [
    {
     "data": {
      "image/png": "[encoded data removed]",
      "text/plain": [
       "<Figure size 432x288 with 1 Axes>"
      ]
     },
     "metadata": {},
     "output_type": "display_data"
    }
   ],
   "source": [
    "df_knn['Adj. Close'].plot()\n",
    "df_knn['Forecast'].plot()\n",
    "plt.legend(loc=4)\n",
    "plt.title(\"KNeighbors Regression\")\n",
    "plt.xlabel('Date')\n",
    "plt.ylabel('Price')\n",
    "plt.show()"
   ]
  },
  {
   "cell_type": "code",
   "execution_count": null,
   "metadata": {},
   "outputs": [],
   "source": []
  }
 ],
 "metadata": {
  "kernelspec": {
   "display_name": "Python 3",
   "language": "python",
   "name": "python3"
  },
  "language_info": {
   "codemirror_mode": {
    "name": "ipython",
    "version": 3
   },
   "file_extension": ".py",
   "mimetype": "text/x-python",
   "name": "python",
   "nbconvert_exporter": "python",
   "pygments_lexer": "ipython3",
   "version": "3.7.6"
  },
  "toc": {
   "base_numbering": 1,
   "nav_menu": {},
   "number_sections": true,
   "sideBar": true,
   "skip_h1_title": false,
   "title_cell": "Table of Contents",
   "title_sidebar": "Contents",
   "toc_cell": false,
   "toc_position": {
    "height": "711px",
    "left": "67px",
    "top": "110px",
    "width": "246px"
   },
   "toc_section_display": true,
   "toc_window_display": true
  }
 },
 "nbformat": 4,
 "nbformat_minor": 4
}
